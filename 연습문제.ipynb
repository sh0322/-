{
  "metadata": {
    "language_info": {
      "codemirror_mode": {
        "name": "python",
        "version": 3
      },
      "file_extension": ".py",
      "mimetype": "text/x-python",
      "name": "python",
      "nbconvert_exporter": "python",
      "pygments_lexer": "ipython3",
      "version": "3.8"
    },
    "kernelspec": {
      "name": "python",
      "display_name": "Python (Pyodide)",
      "language": "python"
    }
  },
  "nbformat_minor": 4,
  "nbformat": 4,
  "cells": [
    {
      "cell_type": "code",
      "source": "a, b, c = map(int, input('숫자 두 개를 입력하세요: ').split())\nif (a < b) and (b <c):\n...     if b < c:\n...         print(a ,b, c)\n...     else:\n...         print(a, c, b)\n... elif (b < a) and (b < c):\n...     if a < c:\n...         print(b ,a, c)\n...     else:\n...         print(b, c, a)\n... else:\n...     if a < b:\n...         print(c ,a, b)\n...     else:\n...         print(c, b, a)",
      "metadata": {},
      "execution_count": null,
      "outputs": []
    },
    {
      "cell_type": "code",
      "source": "a, b = map(int, input('숫자 두 개를 입력하세요: ').split())\nif (a > 0) and (b > 0):\n    print('1사분면에 있음')\nelif (a < 0) and (b > 0):\n    print('2사분면에 있음')\nelif (a < 0) and (b < 0):\n    print('3사분면에 있음')\nelif (a > 0) and (b < 0):\n     print('4사분면에 있음')",
      "metadata": {},
      "execution_count": null,
      "outputs": []
    },
    {
      "cell_type": "code",
      "source": "a = int(input('게임점수를 입력하시오 : '))\nif a >= 1000:\n    print('고수입니다')\nelse:\n    print('입문자입니다')",
      "metadata": {},
      "execution_count": null,
      "outputs": []
    },
    {
      "cell_type": "code",
      "source": "for i in range(3):\n    print('Python')\n    print('is')\n    print('FUN!')\n",
      "metadata": {
        "trusted": true
      },
      "execution_count": 1,
      "outputs": [
        {
          "name": "stdout",
          "text": "Python\nis\nFUN!\nPython\nis\nFUN!\nPython\nis\nFUN!\n",
          "output_type": "stream"
        }
      ]
    },
    {
      "cell_type": "code",
      "source": "for i in range(3):\n    print('Python')\n    print('is')\nprint('FUN!')\n",
      "metadata": {
        "trusted": true
      },
      "execution_count": 2,
      "outputs": [
        {
          "name": "stdout",
          "text": "Python\nis\nPython\nis\nPython\nis\nFUN!\n",
          "output_type": "stream"
        }
      ]
    },
    {
      "cell_type": "code",
      "source": "m = 1\nn=int(input('숫자를 입력하세요: '))\nfor i in range(2,n-1):\n    if n % i == 0:\n        m = 0\n        break\nif m == 1:\n    print(m,'는 소수입니다.')\nelse:\n    printf(m,'는 소수가 아닙니다.')",
      "metadata": {},
      "execution_count": null,
      "outputs": []
    }
  ]
}